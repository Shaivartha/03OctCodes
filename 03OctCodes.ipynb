{
  "nbformat": 4,
  "nbformat_minor": 0,
  "metadata": {
    "colab": {
      "provenance": [],
      "authorship_tag": "ABX9TyM1WDo3lVC8DG2LaoiSUaMb",
      "include_colab_link": true
    },
    "kernelspec": {
      "name": "python3",
      "display_name": "Python 3"
    },
    "language_info": {
      "name": "python"
    }
  },
  "cells": [
    {
      "cell_type": "markdown",
      "metadata": {
        "id": "view-in-github",
        "colab_type": "text"
      },
      "source": [
        "<a href=\"https://colab.research.google.com/github/Shaivartha/03OctCodes/blob/main/03OctCodes.ipynb\" target=\"_parent\"><img src=\"https://colab.research.google.com/assets/colab-badge.svg\" alt=\"Open In Colab\"/></a>"
      ]
    },
    {
      "cell_type": "code",
      "execution_count": 2,
      "metadata": {
        "colab": {
          "base_uri": "https://localhost:8080/"
        },
        "id": "Rjpm9cYVeO0Q",
        "outputId": "74cb0e41-5948-4c40-a432-05f1f338952b"
      },
      "outputs": [
        {
          "output_type": "stream",
          "name": "stdout",
          "text": [
            "Akash 2\n",
            "Deependra 40\n",
            "Reaper 44\n",
            "Veer 67\n",
            "\n",
            "Akash\n",
            "Deependra\n",
            "Reaper\n",
            "Veer\n"
          ]
        }
      ],
      "source": [
        "#Classes & Objects\n",
        "# Python3 code here creating class\n",
        "\n",
        "class Reverse:\n",
        "    def __init__(self, name, roll):\n",
        "        self.name = name\n",
        "        self.roll = roll\n",
        "\n",
        "# creating list\n",
        "list = []\n",
        "\n",
        "# appending instances to list\n",
        "list.append(Reverse('Akash', 2))\n",
        "list.append(Reverse('Deependra', 40))\n",
        "list.append(Reverse('Reaper', 44))\n",
        "list.append(Reverse('Veer', 67))\n",
        "\n",
        "# Accessing object values using a for loop\n",
        "for obj in list:\n",
        "    print(obj.name, obj.roll, sep=' ')\n",
        "\n",
        "print(\"\")\n",
        "# Accessing individual elements\n",
        "print(list[0].name)\n",
        "print(list[1].name)\n",
        "print(list[2].name)\n",
        "print(list[3].name)\n"
      ]
    }
  ]
}